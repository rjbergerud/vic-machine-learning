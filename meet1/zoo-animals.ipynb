{
 "cells": [
  {
   "cell_type": "markdown",
   "metadata": {},
   "source": [
    "# Exploring the Zoo-Animals dataset\n",
    "\n",
    "At any point in this workbook, if you have something you'd like to share, \n",
    "- make a gist | push your changes to gh\n",
    "- nbviewer will read from either and render the notebook https://nbviewer.jupyter.org/ \n",
    "\n",
    "[example](https://nbviewer.jupyter.org/github/rjbergerud/vic-machine-learning/blob/master/meet1/zoo-animals.ipynb)"
   ]
  },
  {
   "cell_type": "code",
   "execution_count": 2,
   "metadata": {
    "collapsed": false
   },
   "outputs": [
    {
     "name": "stdout",
     "output_type": "stream",
     "text": [
      "  animal_name  hair  feathers  eggs  milk  airborne  aquatic  predator  \\\n",
      "0    aardvark     1         0     0     1         0        0         1   \n",
      "1    antelope     1         0     0     1         0        0         0   \n",
      "2        bass     0         0     1     0         0        1         1   \n",
      "3        bear     1         0     0     1         0        0         1   \n",
      "4        boar     1         0     0     1         0        0         1   \n",
      "\n",
      "   toothed  backbone  breathes  venomous  fins  legs  tail  domestic  catsize  \\\n",
      "0        1         1         1         0     0     4     0         0        1   \n",
      "1        1         1         1         0     0     4     1         0        1   \n",
      "2        1         1         0         0     1     0     1         0        0   \n",
      "3        1         1         1         0     0     4     0         0        1   \n",
      "4        1         1         1         0     0     4     1         0        1   \n",
      "\n",
      "   class_type  \n",
      "0           1  \n",
      "1           1  \n",
      "2           4  \n",
      "3           1  \n",
      "4           1  \n"
     ]
    }
   ],
   "source": [
    "import pandas as pd\n",
    "import numpy as np\n",
    "\n",
    "df = pd.read_csv('zoo.csv')\n",
    "classes = pd.read_csv('class.csv')\n",
    "\n",
    "# Take a look at the first five rows of data\n",
    "print(df.head())\n",
    "\n"
   ]
  },
  {
   "cell_type": "code",
   "execution_count": 4,
   "metadata": {
    "collapsed": true
   },
   "outputs": [],
   "source": [
    "import matplotlib.pyplot as plt\n",
    "%matplotlib inline"
   ]
  },
  {
   "cell_type": "markdown",
   "metadata": {},
   "source": [
    "# Explore the data\n",
    "Sometimes, we come at a dataset without knowing anything about it, and having no questions posed.  Doing some initial exploration of the data can help us find good questions to ask later.  This process is called [Exploratory Data Analysis](https://en.wikipedia.org/wiki/Exploratory_data_analysis). \n",
    "\n",
    "We use tools from [description statistics](https://en.wikipedia.org/wiki/Descriptive_statistics) and visualizations to get a better intuition on our sample.  There are a few examples here, but of course add some of your own in the cells afterwards.\n",
    "\n",
    "### Matplotlib\n",
    "Matplotlib is a library meant to mimic matlab-style plotting.  You build up a plot through a sequence of calls to the pyplot object (`plt` below), which keeps track of the data and options you set until you call `plt.show()`."
   ]
  },
  {
   "cell_type": "code",
   "execution_count": 5,
   "metadata": {
    "collapsed": false
   },
   "outputs": [
    {
     "name": "stdout",
     "output_type": "stream",
     "text": [
      "Index([u'hair', u'feathers', u'eggs', u'milk', u'airborne', u'aquatic',\n",
      "       u'predator', u'toothed', u'backbone', u'breathes', u'venomous', u'fins',\n",
      "       u'legs', u'tail', u'domestic', u'catsize'],\n",
      "      dtype='object')\n"
     ]
    },
    {
     "data": {
      "image/png": "[encoded data removed]",
      "text/plain": [
       "<matplotlib.figure.Figure at 0x7f54eb50ce10>"
      ]
     },
     "metadata": {},
     "output_type": "display_data"
    }
   ],
   "source": [
    "features = df.ix[:,1:-1]\n",
    "features_total = features.sum()\n",
    "feature_names = features_total.axes[0]\n",
    "y_ticks = np.arange(len(feature_names))\n",
    "plt.barh(y_ticks, features_total, align='center', alpha=0.5)\n",
    "plt.yticks(y_ticks, feature_names)\n",
    "plt.xlabel('# of species occuring with feature')\n",
    "plt.ylabel('features')\n",
    "plt.show()"
   ]
  },
  {
   "cell_type": "code",
   "execution_count": 6,
   "metadata": {
    "collapsed": true
   },
   "outputs": [],
   "source": [
    "# Your code here\n",
    "\n",
    "\n",
    "# Unfamiliar with matplotlib?  Stuck?  Checkout \n",
    "# https://www.kaggle.com/sarangkarpate/d/uciml/zoo-animal-classification/notebook8362945bc6"
   ]
  },
  {
   "cell_type": "markdown",
   "metadata": {},
   "source": [
    "### Choosing a Classifier\n",
    "\n",
    "Questions to ask before choosing a classifier:\n",
    "- What type of data (continuous, discrete) am I using for my features\n",
    "- What is my target data?  What type is it?\n",
    "- Can the rules for classification given by the classifier be easily interpretable by a human-being (consider a tree-classifier vs. neurual network)."
   ]
  },
  {
   "cell_type": "code",
   "execution_count": 5,
   "metadata": {
    "collapsed": false
   },
   "outputs": [
    {
     "name": "stdout",
     "output_type": "stream",
     "text": [
      "Classifier score: 1.0\n",
      "Predicted class for aardvark: 1\n",
      "Actual class for aardvark: 1\n",
      "   Class_Number    Class_Type\n",
      "0             1        Mammal\n",
      "1             2          Bird\n",
      "2             3       Reptile\n",
      "3             4          Fish\n",
      "4             5     Amphibian\n",
      "5             6           Bug\n",
      "6             7  Invertebrate\n"
     ]
    },
    {
     "name": "stderr",
     "output_type": "stream",
     "text": [
      "/media/rydertana/4b16cf63-5c01-4664-9954-fbb9dbaba9d1/anaconda2/lib/python2.7/site-packages/sklearn/utils/validation.py:386: DeprecationWarning: Passing 1d arrays as data is deprecated in 0.17 and willraise ValueError in 0.19. Reshape your data either using X.reshape(-1, 1) if your data has a single feature or X.reshape(1, -1) if it contains a single sample.\n",
      "  DeprecationWarning)\n"
     ]
    }
   ],
   "source": [
    "#Example classifier\n",
    "\n",
    "from sklearn.ensemble import RandomForestClassifier\n",
    "\n",
    "## Split the data into features and target variables\n",
    "X = features\n",
    "Y = df[\"class_type\"]\n",
    "\n",
    "# Create instance of classifier\n",
    "clf = RandomForestClassifier(n_estimators = 10)\n",
    "\n",
    "# Fit or \"train\" the classifier \n",
    "clf = clf.fit(X,Y)\n",
    "\n",
    "# Check out how it did \n",
    "# note, we'll talk about what's missing/wrong here soon\n",
    "print(\"Classifier score: {}\".format(clf.score(X,Y)))\n",
    "\n",
    "# You can see how the classifier you've trained classifies different\n",
    "# animals, and compare it to the real classification\n",
    "aardvark = df.loc[0] #Aardvark\n",
    "aardvark_features, aardvark_class = aardvark[1:-1], aardvark[-1:]\n",
    "print(\"Predicted class for aardvark: {}\".format(clf.predict(aardvark_features)[0]))\n",
    "print(\"Actual class for aardvark: {}\".format(aardvark_class[0]))\n",
    "\n",
    "print(classes[['Class_Number', 'Class_Type']])\n"
   ]
  },
  {
   "cell_type": "code",
   "execution_count": null,
   "metadata": {
    "collapsed": true
   },
   "outputs": [],
   "source": [
    "## Try your own!\n",
    "# Pick and implement a classifier from the sklearn documentation\n",
    "# http://scikit-learn.org/stable/supervised_learning.html\n",
    "\n",
    "# Tree classifier\n",
    "# http://scikit-learn.org/stable/modules/tree.html\n",
    "\n",
    "# Naive Bayes\n",
    "# http://scikit-learn.org/stable/modules/naive_bayes.html\n",
    "\n",
    "# SVM\n",
    "# http://scikit-learn.org/stable/modules/svm.html#classification"
   ]
  },
  {
   "cell_type": "markdown",
   "metadata": {},
   "source": [
    "### What we're missing: testing\n",
    "\n",
    "We've choosen a fairly small dataset here. What's wrong with that?"
   ]
  },
  {
   "cell_type": "markdown",
   "metadata": {},
   "source": []
  },
  {
   "cell_type": "markdown",
   "metadata": {},
   "source": [
    "Resources used in ithis presentation: \n",
    "- [Understanding Exploratory Data Analysis](http://machinelearningmastery.com/understand-problem-get-better-results-using-exploratory-data-analysis/)\n"
   ]
  }
 ],
 "metadata": {
  "anaconda-cloud": {},
  "kernelspec": {
   "display_name": "Python [default]",
   "language": "python",
   "name": "python2"
  },
  "language_info": {
   "codemirror_mode": {
    "name": "ipython",
    "version": 2
   },
   "file_extension": ".py",
   "mimetype": "text/x-python",
   "name": "python",
   "nbconvert_exporter": "python",
   "pygments_lexer": "ipython2",
   "version": "2.7.12"
  }
 },
 "nbformat": 4,
 "nbformat_minor": 1
}
